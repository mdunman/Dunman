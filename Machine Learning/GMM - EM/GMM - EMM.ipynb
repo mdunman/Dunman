{
 "cells": [
  {
   "cell_type": "code",
   "execution_count": 1,
   "metadata": {},
   "outputs": [],
   "source": [
    "import math\n",
    "import numpy as np\n",
    "import pandas as pd\n",
    "import scipy.io as sio\n",
    "import scipy.stats as stats\n",
    "import matplotlib.pyplot as plt\n",
    "import scipy.sparse.linalg as ll\n",
    "from sklearn.cluster import KMeans"
   ]
  },
  {
   "cell_type": "code",
   "execution_count": 2,
   "metadata": {},
   "outputs": [
    {
     "name": "stdout",
     "output_type": "stream",
     "text": [
      "(1990, 784)\n",
      "(1990,)\n"
     ]
    }
   ],
   "source": [
    "#Part A\n",
    "data = sio.loadmat('data.mat')['data'].T\n",
    "print(data.shape)\n",
    "labels = sio.loadmat('label.mat')['trueLabel'][0]\n",
    "m = len(labels)\n",
    "print(labels.shape)"
   ]
  },
  {
   "cell_type": "code",
   "execution_count": 5,
   "metadata": {},
   "outputs": [
    {
     "data": {
      "image/png": "[encoded data removed]",
      "text/plain": [
       "<Figure size 432x288 with 2 Axes>"
      ]
     },
     "metadata": {
      "needs_background": "light"
     },
     "output_type": "display_data"
    }
   ],
   "source": [
    "plt.subplot(1,2,1)\n",
    "plt.imshow(data[29].reshape(28,28).T, interpolation='nearest')\n",
    "plt.subplot(1,2,2)\n",
    "plt.imshow(data[1987].reshape(28,28).T, interpolation='nearest')\n",
    "plt.show()"
   ]
  },
  {
   "cell_type": "code",
   "execution_count": null,
   "metadata": {},
   "outputs": [],
   "source": []
  },
  {
   "cell_type": "code",
   "execution_count": 6,
   "metadata": {},
   "outputs": [],
   "source": [
    "# Part B\n",
    "def speed(x,mu,r,cm):\n",
    "    d = len(cm)\n",
    "    L,U = ll.eigs(cm, k = 100)\n",
    "    L = np.real(L)\n",
    "    U = np.real(U).T\n",
    "    Lt = np.diag(np.real(L[0:r]))\n",
    "    Ut = np.real(U[0:r,:])\n",
    "    mut = Ut @ mu\n",
    "    datat = (Ut@data.T).T\n",
    "    det = 1\n",
    "    for i in range(r):\n",
    "        det *= L[i]\n",
    "    e = 0\n",
    "    for i in range(r):\n",
    "        e += ((datat[:,i]-mut[i])**2)/L[i]\n",
    "    e = np.exp((-0.5)*e)\n",
    "    N = (det)**(-0.5)*e\n",
    "    return N"
   ]
  },
  {
   "cell_type": "code",
   "execution_count": 41,
   "metadata": {},
   "outputs": [],
   "source": [
    "d = 784\n",
    "m = 1990\n",
    "k = 2\n",
    "r = 30\n",
    "its = 20\n",
    "cm1 = np.identity(d)\n",
    "cm2 = np.identity(d)\n",
    "pi = np.random.rand(1,2)[0]\n",
    "pi = pi/sum(pi)\n",
    "pi1 = pi[0]\n",
    "pi2 = pi[1]\n",
    "mu1 = []\n",
    "mu2 = []\n",
    "for i in range(784):\n",
    "    mu1.append(np.random.normal(0,1))\n",
    "    mu2.append(np.random.normal(0,1))\n",
    "mu1 = np.array(mu1)\n",
    "mu2 = np.array(mu2)\n",
    "loglik = []\n",
    "acc = []"
   ]
  },
  {
   "cell_type": "code",
   "execution_count": 42,
   "metadata": {},
   "outputs": [],
   "source": [
    "for rep in range(its):\n",
    "    N1 = speed(data,mu1,r,cm1)\n",
    "    N2 = speed(data,mu2,r,cm2)\n",
    "    tau1 = pi1*N1 / (pi1*N1 + pi2*N2)\n",
    "    tau2 = 1 - tau1\n",
    "\n",
    "    pi1 = sum(tau1)/m\n",
    "    pi2 = sum(tau2)/m\n",
    "    mu1 = 0\n",
    "    mu2 = 0\n",
    "    for k in range(m):\n",
    "        mu1 += tau1[k]*data[k]\n",
    "        mu2 += tau2[k]*data[k]\n",
    "    mu1 = mu1/sum(tau1)\n",
    "    mu2 = mu2/sum(tau2)\n",
    "\n",
    "    tau1 = np.reshape(tau1,(1990,1))\n",
    "    tau2 = np.reshape(tau2,(1990,1))\n",
    "    B = (data-mu1)\n",
    "    Ba = (B*tau1)\n",
    "    cm1 = B.T@Ba\n",
    "    cm1 = cm1/sum(tau1)\n",
    "    C = (data-mu2)\n",
    "    Ca = (C*tau2)\n",
    "    cm2 = Ca.T@Ca\n",
    "    cm2 = cm2/sum(tau2)\n",
    "    \n",
    "    loglik.append(sum(np.log(pi1*N1 + pi2*N2)))"
   ]
  },
  {
   "cell_type": "code",
   "execution_count": 43,
   "metadata": {},
   "outputs": [
    {
     "data": {
      "image/png": "[encoded data removed]",
      "text/plain": [
       "<Figure size 432x288 with 1 Axes>"
      ]
     },
     "metadata": {
      "needs_background": "light"
     },
     "output_type": "display_data"
    }
   ],
   "source": [
    "plt.figure()\n",
    "plt.plot(loglik)\n",
    "plt.show()"
   ]
  },
  {
   "cell_type": "code",
   "execution_count": null,
   "metadata": {},
   "outputs": [],
   "source": []
  },
  {
   "cell_type": "code",
   "execution_count": 44,
   "metadata": {},
   "outputs": [
    {
     "name": "stdout",
     "output_type": "stream",
     "text": [
      "0.5639912292061708\n",
      "0.43600877079382905\n"
     ]
    }
   ],
   "source": [
    "# Part C\n",
    "print(pi1)\n",
    "print(pi2)"
   ]
  },
  {
   "cell_type": "code",
   "execution_count": 45,
   "metadata": {},
   "outputs": [
    {
     "data": {
      "image/png": "[encoded data removed]",
      "text/plain": [
       "<Figure size 432x288 with 2 Axes>"
      ]
     },
     "metadata": {
      "needs_background": "light"
     },
     "output_type": "display_data"
    }
   ],
   "source": [
    "plt.subplot(1,2,1)\n",
    "plt.imshow(mu1.reshape(28,28).T, interpolation='nearest')\n",
    "plt.subplot(1,2,2)\n",
    "plt.imshow(mu2.reshape(28,28).T, interpolation='nearest')\n",
    "plt.show()"
   ]
  },
  {
   "cell_type": "code",
   "execution_count": null,
   "metadata": {},
   "outputs": [],
   "source": []
  },
  {
   "cell_type": "code",
   "execution_count": 46,
   "metadata": {},
   "outputs": [],
   "source": [
    "# Part D\n",
    "pred = []\n",
    "for j in range(m):\n",
    "    if tau1[j]>0.5:\n",
    "        pred.append(2)\n",
    "    else:\n",
    "        pred.append(6)\n",
    "pred = np.array(pred)\n",
    "acc = sum(pred == labels)/m\n",
    "if acc < 0.5:\n",
    "    for i in range(m):\n",
    "        if pred[i]==2:\n",
    "            pred[i]=6\n",
    "        else:\n",
    "            pred[i]=2\n",
    "    acc = sum(pred == labels)/m"
   ]
  },
  {
   "cell_type": "code",
   "execution_count": 47,
   "metadata": {},
   "outputs": [],
   "source": [
    "kmeans = KMeans(n_clusters=2, random_state=0).fit(data)\n",
    "k_lab = []\n",
    "for i in range(m):\n",
    "    if kmeans.labels_[i] == 1:\n",
    "        k_lab.append(2)\n",
    "    else:\n",
    "        k_lab.append(6)\n",
    "k_acc = sum(pred == k_lab)/m"
   ]
  },
  {
   "cell_type": "code",
   "execution_count": 48,
   "metadata": {},
   "outputs": [
    {
     "name": "stdout",
     "output_type": "stream",
     "text": [
      "GMM-EM Accuracy: 89.15%\n",
      "KMeans Accuracy: 85.93%\n"
     ]
    }
   ],
   "source": [
    "print(\"GMM-EM Accuracy: \"+str(round(acc*100,2))+\"%\")\n",
    "print(\"KMeans Accuracy: \"+str(round(k_acc*100,2))+\"%\")"
   ]
  },
  {
   "cell_type": "code",
   "execution_count": null,
   "metadata": {},
   "outputs": [],
   "source": []
  }
 ],
 "metadata": {
  "kernelspec": {
   "display_name": "Python 3",
   "language": "python",
   "name": "python3"
  },
  "language_info": {
   "codemirror_mode": {
    "name": "ipython",
    "version": 3
   },
   "file_extension": ".py",
   "mimetype": "text/x-python",
   "name": "python",
   "nbconvert_exporter": "python",
   "pygments_lexer": "ipython3",
   "version": "3.7.6"
  }
 },
 "nbformat": 4,
 "nbformat_minor": 4
}
